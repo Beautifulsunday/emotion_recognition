{
 "cells": [
  {
   "cell_type": "code",
   "execution_count": null,
   "metadata": {
    "collapsed": false
   },
   "outputs": [],
   "source": [
    "import time\n",
    "import numpy as np\n",
    "import pandas as pd\n",
    "import tensorflow as tf\n",
    "import os\n",
    "import sys\n",
    "import json\n",
    "\n",
    "from sklearn.preprocessing import label_binarize\n",
    "from sklearn.cross_validation import StratifiedKFold, KFold, train_test_split\n",
    "\n",
    "import keras.backend as K\n",
    "from keras.models import Sequential, Model, model_from_json\n",
    "from keras.layers.core import Dense, Activation, Merge, Dropout\n",
    "from keras.layers import LSTM, Input, Lambda\n",
    "from keras.layers.wrappers import TimeDistributed\n",
    "from keras.layers.normalization import BatchNormalization\n",
    "from keras.optimizers import SGD, Adam, RMSprop\n",
    "\n",
    "sys.path.append(\"../\")\n",
    "from utilities.utils import *\n",
    "\n",
    "import matplotlib\n",
    "import matplotlib.pyplot as plt\n",
    "import matplotlib.ticker as ticker\n",
    "%matplotlib inline\n",
    "\n",
    "from IPython.display import clear_output"
   ]
  },
  {
   "cell_type": "code",
   "execution_count": null,
   "metadata": {
    "collapsed": true
   },
   "outputs": [],
   "source": [
    "batch_size = 64\n",
    "nb_feat = 34\n",
    "nb_class = 4\n",
    "nb_epoch = 80\n",
    "\n",
    "optimizer = 'Adadelta'"
   ]
  },
  {
   "cell_type": "code",
   "execution_count": null,
   "metadata": {
    "collapsed": false
   },
   "outputs": [],
   "source": [
    "params = Constants()\n",
    "print(params)"
   ]
  },
  {
   "cell_type": "markdown",
   "metadata": {},
   "source": [
    "# Calculating features"
   ]
  },
  {
   "cell_type": "code",
   "execution_count": null,
   "metadata": {
    "collapsed": true
   },
   "outputs": [],
   "source": [
    "data = read_iemocap_data(params=params)"
   ]
  },
  {
   "cell_type": "code",
   "execution_count": null,
   "metadata": {
    "collapsed": false
   },
   "outputs": [],
   "source": [
    "get_features(data, params)"
   ]
  },
  {
   "cell_type": "markdown",
   "metadata": {},
   "source": [
    "# Model definition"
   ]
  },
  {
   "cell_type": "code",
   "execution_count": null,
   "metadata": {
    "collapsed": true
   },
   "outputs": [],
   "source": [
    "def ctc_lambda_func(args):\n",
    "    y_pred, labels, input_length, label_length = args\n",
    "    # the 2 is critical here since the first couple outputs of the RNN\n",
    "    # tend to be garbage:\n",
    "    shift = 2\n",
    "    y_pred = y_pred[:, shift:, :]\n",
    "    input_length -= shift\n",
    "    return K.ctc_batch_cost(labels, y_pred, input_length, label_length)"
   ]
  },
  {
   "cell_type": "code",
   "execution_count": null,
   "metadata": {
    "collapsed": false
   },
   "outputs": [],
   "source": [
    "def build_model(nb_feat, nb_class, optimizer='Adadelta'):\n",
    "    net_input = Input(name=\"the_input\", shape=(78, nb_feat))\n",
    "    forward_lstm1  = LSTM(output_dim=64, \n",
    "                          return_sequences=True, \n",
    "                          activation=\"tanh\"\n",
    "                         )(net_input)\n",
    "    backward_lstm1 = LSTM(output_dim=64, \n",
    "                          return_sequences=True, \n",
    "                          activation=\"tanh\",\n",
    "                          go_backwards=True\n",
    "                         )(net_input)\n",
    "    blstm_output1  = Merge(mode='concat')([forward_lstm1, backward_lstm1])\n",
    "\n",
    "    forward_lstm2  = LSTM(output_dim=64, \n",
    "                          return_sequences=True, \n",
    "                          activation=\"tanh\"\n",
    "                         )(blstm_output1)\n",
    "    backward_lstm2 = LSTM(output_dim=64, \n",
    "                          return_sequences=True, \n",
    "                          activation=\"tanh\",\n",
    "                          go_backwards=True\n",
    "                         )(blstm_output1)\n",
    "    blstm_output2  = Merge(mode='concat')([forward_lstm2, backward_lstm2])\n",
    "\n",
    "    hidden = TimeDistributed(Dense(512, activation='tanh'))(blstm_output2)\n",
    "    output = TimeDistributed(Dense(nb_class + 1, activation='softmax'))(hidden)\n",
    "\n",
    "    labels = Input(name='the_labels', shape=[1], dtype='float32')\n",
    "    input_length = Input(name='input_length', shape=[1], dtype='int64')\n",
    "    label_length = Input(name='label_length', shape=[1], dtype='int64')\n",
    "    loss_out = Lambda(ctc_lambda_func, output_shape=(1,), name=\"ctc\")([output, labels, input_length, label_length])\n",
    "\n",
    "    model = Model(input=[net_input, labels, input_length, label_length], output=[loss_out])\n",
    "    model.compile(loss={'ctc': lambda y_true, y_pred: y_pred}, optimizer=optimizer, metrics=[])\n",
    "\n",
    "    test_func = K.function([net_input], [output])\n",
    "    \n",
    "    return model, test_func"
   ]
  },
  {
   "cell_type": "markdown",
   "metadata": {},
   "source": [
    "# Model building"
   ]
  },
  {
   "cell_type": "code",
   "execution_count": null,
   "metadata": {
    "collapsed": false
   },
   "outputs": [],
   "source": [
    "model, test_func = build_model(feadim=nb_feat, Nclass=nb_class, optimizer=optimizer)\n",
    "model.summary()"
   ]
  },
  {
   "cell_type": "markdown",
   "metadata": {},
   "source": [
    "# Data preparation"
   ]
  },
  {
   "cell_type": "code",
   "execution_count": null,
   "metadata": {
    "collapsed": false
   },
   "outputs": [],
   "source": [
    "X, y, valid_idxs = get_sample(ids=None, take_all=True)\n",
    "X = np.array(X, dtype=np.float32)\n",
    "y = np.argmax(to_categorical(y, params), axis=1)\n",
    "y = np.reshape(y, (y.shape[0], 1))"
   ]
  },
  {
   "cell_type": "code",
   "execution_count": null,
   "metadata": {
    "collapsed": true
   },
   "outputs": [],
   "source": [
    "X, X_mask = pad_sequence_into_array(X, maxlen=78)\n",
    "y, y_mask = pad_sequence_into_array(y, maxlen=1)"
   ]
  },
  {
   "cell_type": "code",
   "execution_count": null,
   "metadata": {
    "collapsed": false
   },
   "outputs": [],
   "source": [
    "index_to_retain = np.sum(X_mask, axis=1, dtype=np.int32) > 5"
   ]
  },
  {
   "cell_type": "code",
   "execution_count": null,
   "metadata": {
    "collapsed": true
   },
   "outputs": [],
   "source": [
    "X, X_mask = X[index_to_retain], X_mask[index_to_retain]\n",
    "y, y_mask = y[index_to_retain], y_mask[index_to_retain]"
   ]
  },
  {
   "cell_type": "code",
   "execution_count": null,
   "metadata": {
    "collapsed": false
   },
   "outputs": [],
   "source": [
    "idxs_train, idxs_test = train_test_split(range(X.shape[0]))\n",
    "X_train, X_test = X[idxs_train], X[idxs_test]\n",
    "X_train_mask, X_test_mask = X_mask[idxs_train], X_mask[idxs_test]\n",
    "y_train, y_test = y[idxs_train], y[idxs_test]\n",
    "y_train_mask, y_test_mask = y_mask[idxs_train], y_mask[idxs_test]"
   ]
  },
  {
   "cell_type": "markdown",
   "metadata": {},
   "source": [
    "# Training"
   ]
  },
  {
   "cell_type": "code",
   "execution_count": null,
   "metadata": {
    "collapsed": false
   },
   "outputs": [],
   "source": [
    "sess = tf.Session()"
   ]
  },
  {
   "cell_type": "code",
   "execution_count": null,
   "metadata": {
    "collapsed": false
   },
   "outputs": [],
   "source": [
    "class_weights = np.unique(y, return_counts=True)[1]*1.\n",
    "class_weights = np.sum(class_weights) / class_weights\n",
    "\n",
    "sample_weight = np.zeros(y_train.shape[0])\n",
    "for num, i in enumerate(y_train):\n",
    "    sample_weight[num] = class_weights[i[0]]"
   ]
  },
  {
   "cell_type": "code",
   "execution_count": null,
   "metadata": {
    "collapsed": false
   },
   "outputs": [],
   "source": [
    "ua_train = np.zeros(nb_epoch)\n",
    "ua_test = np.zeros(nb_epoch)\n",
    "wa_train = np.zeros(nb_epoch)\n",
    "wa_test = np.zeros(nb_epoch)\n",
    "loss_train = np.zeros(nb_epoch)\n",
    "loss_test = np.zeros(nb_epoch)\n",
    "\n",
    "for epoch in range(nb_epoch):\n",
    "    epoch_time0 = time.time()\n",
    "    \n",
    "    total_ctcloss = 0.0\n",
    "    batches = range(0, X_train.shape[0], batch_size)\n",
    "    shuffle = np.random.choice(batches, size=len(batches), replace=False)\n",
    "    for num, i in enumerate(shuffle):\n",
    "        inputs_train = {'the_input': X_train[i:i+batch_size],\n",
    "                        'the_labels': y_train[i:i+batch_size],\n",
    "                        'input_length': np.sum(X_train_mask[i:i+batch_size], axis=1, dtype=np.int32),\n",
    "                        'label_length': np.squeeze(y_train_mask[i:i+batch_size]),\n",
    "                       }\n",
    "        outputs_train = {'ctc': np.zeros([inputs_train[\"the_labels\"].shape[0]])}\n",
    "\n",
    "        ctcloss = model.train_on_batch(x=inputs_train, y=outputs_train, \n",
    "                                       sample_weight=sample_weight[i:i+batch_size])\n",
    "\n",
    "        total_ctcloss += ctcloss * inputs_train[\"the_input\"].shape[0] * 1.\n",
    "    loss_train[cv_fold, epoch] = total_ctcloss / X_train.shape[0]\n",
    "\n",
    "    inputs_train = {'the_input': X_train,\n",
    "                    'the_labels': y_train,\n",
    "                    'input_length': np.sum(X_train_mask, axis=1, dtype=np.int32),\n",
    "                    'label_length': np.squeeze(y_train_mask),\n",
    "                   }\n",
    "    outputs_train = {'ctc': np.zeros([y_train.shape[0]])}\n",
    "    preds = test_func([inputs_train[\"the_input\"]])[0]\n",
    "    decode_function = K.ctc_decode(preds[:,2:,:], inputs_train[\"input_length\"]-2, greedy=False, top_paths=1)\n",
    "    labellings = decode_function[0][0].eval(session=sess)\n",
    "    if labellings.shape[1] == 0:\n",
    "        ua_train[cv_fold, epoch] = 0.0\n",
    "        wa_train[cv_fold, epoch] = 0.0\n",
    "    else:\n",
    "        ua_train[cv_fold, epoch] = unweighted_accuracy(y_train.ravel(), labellings.T[0].ravel())\n",
    "        wa_train[cv_fold, epoch] = weighted_accuracy(y_train.ravel(), labellings.T[0].ravel())\n",
    "\n",
    "\n",
    "    inputs_test = {'the_input': X_test,\n",
    "                   'the_labels': y_test,\n",
    "                   'input_length': np.sum(X_test_mask, axis=1, dtype=np.int32),\n",
    "                   'label_length': np.squeeze(y_test_mask),\n",
    "                  }\n",
    "    outputs_test = {'ctc': np.zeros([y_test.shape[0]])}\n",
    "    preds = test_func([inputs_test[\"the_input\"]])[0]\n",
    "    decode_function = K.ctc_decode(preds[:,2:,:], inputs_test[\"input_length\"]-2, greedy=False, top_paths=1)\n",
    "    labellings = decode_function[0][0].eval(session=sess)\n",
    "    if labellings.shape[1] == 0:\n",
    "        ua_test[cv_fold, epoch] = 0.0\n",
    "        wa_test[cv_fold, epoch] = 0.0\n",
    "    else:\n",
    "        ua_test[cv_fold, epoch] = unweighted_accuracy(y_test.ravel(), labellings.T[0].ravel())\n",
    "        wa_test[cv_fold, epoch] = weighted_accuracy(y_test.ravel(), labellings.T[0].ravel())\n",
    "    loss_test[cv_fold, epoch] = np.mean(model.predict(inputs_test))\n",
    "\n",
    "    epoch_time1 = time.time()\n",
    "\n",
    "\n",
    "    print('epoch = %d, \\\n",
    "WA Tr = %0.2f, UA Tr = %0.2f, WA Te = %0.2f, UA Te = %0.2f, CTC Tr = %0.2f, CTC Te = %0.2f, \\\n",
    "time = %0.2fmins' % (epoch + 1, \n",
    "                     wa_train[cv_fold, epoch], ua_train[cv_fold, epoch], \n",
    "                     wa_test[cv_fold, epoch], ua_test[cv_fold, epoch], \n",
    "                     loss_train[cv_fold, epoch], loss_test[cv_fold, epoch],\n",
    "                     (epoch_time1-epoch_time0)/60))"
   ]
  }
 ],
 "metadata": {
  "anaconda-cloud": {},
  "kernelspec": {
   "display_name": "Python [conda root]",
   "language": "python",
   "name": "conda-root-py"
  },
  "language_info": {
   "codemirror_mode": {
    "name": "ipython",
    "version": 2
   },
   "file_extension": ".py",
   "mimetype": "text/x-python",
   "name": "python",
   "nbconvert_exporter": "python",
   "pygments_lexer": "ipython2",
   "version": "2.7.12"
  }
 },
 "nbformat": 4,
 "nbformat_minor": 0
}
